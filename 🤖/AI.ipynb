{
 "cells": [
  {
   "cell_type": "code",
   "execution_count": null,
   "metadata": {},
   "outputs": [],
   "source": []
  },
  {
   "cell_type": "markdown",
   "metadata": {},
   "source": [
    "## **Chapter 13 - Probabilistic Reasoning**"
   ]
  },
  {
   "cell_type": "markdown",
   "metadata": {},
   "source": [
    "*In which we explain how to build efficient network models to reason under uncertainty according to the laws of probability theory, and how to distinguish between correlation and causality*"
   ]
  },
  {
   "cell_type": "markdown",
   "metadata": {},
   "source": [
    "**Bayesian networks** represent dependencies among variables, essentially any full joint probability distribution. A Bayesian network is a directed graph in which each node is annotated with quantitative probability information. \n",
    "\n",
    "1. Each node corresponds to a random variable, which may be discrete or continuous.\n",
    "\n",
    "2. Directed links or arrows connect pairs of nodes. If there is an arrow from node $X$ to node $Y$, $X$ is said to be a parent of $Y$. The graph has no directed cycles and hence is a directed acyclic graph, or DAG.\n",
    "\n",
    "3. Each; node $X_i$ has associated probability information $\\theta(X_i|\\text{Parents}(X_i))$ that quantifies the effect of the parents on the node using a finite number of **parameters**."
   ]
  },
  {
   "cell_type": "markdown",
   "metadata": {},
   "source": []
  }
 ],
 "metadata": {
  "language_info": {
   "name": "python"
  }
 },
 "nbformat": 4,
 "nbformat_minor": 2
}
