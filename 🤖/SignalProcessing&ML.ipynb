{
 "cells": [
  {
   "cell_type": "markdown",
   "metadata": {},
   "source": [
    "# **Chapter 1 - Digital Signal Representation**"
   ]
  },
  {
   "cell_type": "markdown",
   "metadata": {},
   "source": [
    "## **1.1 - Introduction**"
   ]
  },
  {
   "cell_type": "markdown",
   "metadata": {},
   "source": [
    "Continuous (Analog) signals are necessarily sampled at discrete time intervals as well as approximated by a finite number of discrete magnitude values to be represented digitally. Because digital processing devices process data at discrete time steps, continuous signals must be sampled at discrete time intervals. It turns out that it is possible to sample many continuous signals at discrete time intervals, producing discrete-time signals, without any loss or degradation as compared to the original analog signal. Converted continous signals to their discrete-time representations are identical to it if certain conditions described in the Sampling theorem are met."
   ]
  },
  {
   "cell_type": "markdown",
   "metadata": {},
   "source": [
    "An additional limitation of digital processing devices, the degree of which is dictated by their archtiecture, is the restriction that the data must be represented by a finite number of digits, or more specifically by a finite number of bits. Typically, digital processors are designed to store and process data that have fixed specific minimal and maximal number of bits allocated for each representation. These restrictions impose representations to have a finite-precision. The process of representing a continuous value by its discrete representation is known as Quantization. When finite-precision is used to represent actual values the following steps control the quantization effects on the output. \n",
    "\n",
    "1. Quantize in time and magnitude continous input value $x(t)$ of the signal to obtain discrete-time sequence $x[n]$,\n",
    "\n",
    "2. Quantize actual values of the coefficients from\n",
    "\n",
    "$$\\{A_k,k=0,\\ldots,N\\}$$\n",
    "\n",
    "to a finite-precision representation:\n",
    "\n",
    "$$\\{a_k,k=0,\\ldots,N\\}$$\n",
    "\n",
    "and\n",
    "\n",
    "3. Consider the effects of arithmetic operations using finite-precision representations on the output and modify implementation as necessary to obtain an optimal result."
   ]
  },
  {
   "cell_type": "markdown",
   "metadata": {},
   "source": [
    "The effects of quantization on the continuous signal and finite-precision operations are well studied and understood. Consequently, it is possible to convert continuous signals to digital, process them, and reconstruct it back to continuous representation with desired quality. Reconstructed signals typically have characteristics that fulfill certain quality criteria that are preferred to analog conterparts. "
   ]
  },
  {
   "cell_type": "markdown",
   "metadata": {},
   "source": [
    "## **1.2 - Numbers**"
   ]
  },
  {
   "cell_type": "markdown",
   "metadata": {},
   "source": [
    "### **1.2.1 - Numbers and Numerals**"
   ]
  },
  {
   "cell_type": "markdown",
   "metadata": {},
   "source": []
  }
 ],
 "metadata": {
  "language_info": {
   "name": "python"
  }
 },
 "nbformat": 4,
 "nbformat_minor": 2
}
