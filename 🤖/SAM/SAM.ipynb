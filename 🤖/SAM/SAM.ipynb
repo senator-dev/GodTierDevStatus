{
 "cells": [
  {
   "cell_type": "markdown",
   "metadata": {},
   "source": [
    "Dice Loss: The Dice score coefficient (DSC) is a measure of overlap widely used to assess segmentation performance when a ground truth is avialable. "
   ]
  },
  {
   "cell_type": "code",
   "execution_count": 6,
   "metadata": {},
   "outputs": [],
   "source": [
    "import torch\n",
    "\n",
    "model = torch.load(r'C:\\Users\\cwl8\\Desktop\\notes\\SAM\\data\\checkpoints\\segment-anything\\checkpoints\\sam_vit_b_01ec64.pth', weights_only=True)"
   ]
  },
  {
   "cell_type": "code",
   "execution_count": 9,
   "metadata": {},
   "outputs": [
    {
     "name": "stdout",
     "output_type": "stream",
     "text": [
      "Requirement already satisfied: opencv-python in c:\\users\\cwl8\\anaconda3\\envs\\chris-env\\lib\\site-packages (4.10.0.84)\n",
      "Collecting pycocotools\n",
      "  Downloading pycocotools-2.0.8-cp312-cp312-win_amd64.whl.metadata (1.1 kB)\n",
      "Requirement already satisfied: matplotlib in c:\\users\\cwl8\\anaconda3\\envs\\chris-env\\lib\\site-packages (3.9.2)\n",
      "Collecting onnxruntime\n",
      "  Downloading onnxruntime-1.19.2-cp312-cp312-win_amd64.whl.metadata (4.7 kB)\n",
      "Collecting onnx\n",
      "  Downloading onnx-1.17.0-cp312-cp312-win_amd64.whl.metadata (16 kB)\n",
      "Requirement already satisfied: numpy>=1.21.2 in c:\\users\\cwl8\\anaconda3\\envs\\chris-env\\lib\\site-packages (from opencv-python) (2.0.1)\n",
      "Requirement already satisfied: contourpy>=1.0.1 in c:\\users\\cwl8\\anaconda3\\envs\\chris-env\\lib\\site-packages (from matplotlib) (1.3.0)\n",
      "Requirement already satisfied: cycler>=0.10 in c:\\users\\cwl8\\anaconda3\\envs\\chris-env\\lib\\site-packages (from matplotlib) (0.12.1)\n",
      "Requirement already satisfied: fonttools>=4.22.0 in c:\\users\\cwl8\\anaconda3\\envs\\chris-env\\lib\\site-packages (from matplotlib) (4.54.1)\n",
      "Requirement already satisfied: kiwisolver>=1.3.1 in c:\\users\\cwl8\\anaconda3\\envs\\chris-env\\lib\\site-packages (from matplotlib) (1.4.7)\n",
      "Requirement already satisfied: packaging>=20.0 in c:\\users\\cwl8\\appdata\\roaming\\python\\python312\\site-packages (from matplotlib) (23.2)\n",
      "Requirement already satisfied: pillow>=8 in c:\\users\\cwl8\\anaconda3\\envs\\chris-env\\lib\\site-packages (from matplotlib) (10.4.0)\n",
      "Requirement already satisfied: pyparsing>=2.3.1 in c:\\users\\cwl8\\anaconda3\\envs\\chris-env\\lib\\site-packages (from matplotlib) (3.2.0)\n",
      "Requirement already satisfied: python-dateutil>=2.7 in c:\\users\\cwl8\\appdata\\roaming\\python\\python312\\site-packages (from matplotlib) (2.8.2)\n",
      "Collecting coloredlogs (from onnxruntime)\n",
      "  Downloading coloredlogs-15.0.1-py2.py3-none-any.whl.metadata (12 kB)\n",
      "Collecting flatbuffers (from onnxruntime)\n",
      "  Using cached flatbuffers-24.3.25-py2.py3-none-any.whl.metadata (850 bytes)\n",
      "Collecting protobuf (from onnxruntime)\n",
      "  Downloading protobuf-5.28.3-cp310-abi3-win_amd64.whl.metadata (592 bytes)\n",
      "Requirement already satisfied: sympy in c:\\users\\cwl8\\anaconda3\\envs\\chris-env\\lib\\site-packages (from onnxruntime) (1.13.1)\n",
      "Requirement already satisfied: six>=1.5 in c:\\users\\cwl8\\appdata\\roaming\\python\\python312\\site-packages (from python-dateutil>=2.7->matplotlib) (1.16.0)\n",
      "Collecting humanfriendly>=9.1 (from coloredlogs->onnxruntime)\n",
      "  Downloading humanfriendly-10.0-py2.py3-none-any.whl.metadata (9.2 kB)\n",
      "Requirement already satisfied: mpmath<1.4,>=1.1.0 in c:\\users\\cwl8\\anaconda3\\envs\\chris-env\\lib\\site-packages (from sympy->onnxruntime) (1.3.0)\n",
      "Collecting pyreadline3 (from humanfriendly>=9.1->coloredlogs->onnxruntime)\n",
      "  Downloading pyreadline3-3.5.4-py3-none-any.whl.metadata (4.7 kB)\n",
      "Downloading pycocotools-2.0.8-cp312-cp312-win_amd64.whl (83 kB)\n",
      "Downloading onnxruntime-1.19.2-cp312-cp312-win_amd64.whl (11.1 MB)\n",
      "   ---------------------------------------- 0.0/11.1 MB ? eta -:--:--\n",
      "    --------------------------------------- 0.3/11.1 MB ? eta -:--:--\n",
      "   -- ------------------------------------- 0.8/11.1 MB 2.1 MB/s eta 0:00:05\n",
      "   --- ------------------------------------ 1.0/11.1 MB 2.3 MB/s eta 0:00:05\n",
      "   ------- -------------------------------- 2.1/11.1 MB 2.7 MB/s eta 0:00:04\n",
      "   -------- ------------------------------- 2.4/11.1 MB 2.7 MB/s eta 0:00:04\n",
      "   ------------ --------------------------- 3.4/11.1 MB 2.8 MB/s eta 0:00:03\n",
      "   ---------------- ----------------------- 4.5/11.1 MB 3.2 MB/s eta 0:00:03\n",
      "   ------------------ --------------------- 5.2/11.1 MB 3.2 MB/s eta 0:00:02\n",
      "   ---------------------- ----------------- 6.3/11.1 MB 3.4 MB/s eta 0:00:02\n",
      "   -------------------------- ------------- 7.3/11.1 MB 3.7 MB/s eta 0:00:02\n",
      "   ------------------------------- -------- 8.7/11.1 MB 3.9 MB/s eta 0:00:01\n",
      "   ---------------------------------- ----- 9.7/11.1 MB 4.0 MB/s eta 0:00:01\n",
      "   ------------------------------------- -- 10.5/11.1 MB 4.0 MB/s eta 0:00:01\n",
      "   ---------------------------------------- 11.1/11.1 MB 3.9 MB/s eta 0:00:00\n",
      "Downloading onnx-1.17.0-cp312-cp312-win_amd64.whl (14.5 MB)\n",
      "   ---------------------------------------- 0.0/14.5 MB ? eta -:--:--\n",
      "   --- ------------------------------------ 1.3/14.5 MB 6.7 MB/s eta 0:00:02\n",
      "   ------- -------------------------------- 2.9/14.5 MB 7.6 MB/s eta 0:00:02\n",
      "   ------------ --------------------------- 4.5/14.5 MB 7.9 MB/s eta 0:00:02\n",
      "   --------------- ------------------------ 5.8/14.5 MB 7.3 MB/s eta 0:00:02\n",
      "   -------------------- ------------------- 7.3/14.5 MB 7.3 MB/s eta 0:00:01\n",
      "   ----------------------- ---------------- 8.7/14.5 MB 7.1 MB/s eta 0:00:01\n",
      "   ---------------------------- ----------- 10.2/14.5 MB 7.2 MB/s eta 0:00:01\n",
      "   ------------------------------- -------- 11.5/14.5 MB 7.1 MB/s eta 0:00:01\n",
      "   ------------------------------------ --- 13.4/14.5 MB 7.2 MB/s eta 0:00:01\n",
      "   ---------------------------------------- 14.5/14.5 MB 7.1 MB/s eta 0:00:00\n",
      "Downloading protobuf-5.28.3-cp310-abi3-win_amd64.whl (431 kB)\n",
      "Downloading coloredlogs-15.0.1-py2.py3-none-any.whl (46 kB)\n",
      "Using cached flatbuffers-24.3.25-py2.py3-none-any.whl (26 kB)\n",
      "Downloading humanfriendly-10.0-py2.py3-none-any.whl (86 kB)\n",
      "Downloading pyreadline3-3.5.4-py3-none-any.whl (83 kB)\n",
      "Installing collected packages: flatbuffers, pyreadline3, protobuf, onnx, humanfriendly, pycocotools, coloredlogs, onnxruntime\n",
      "Successfully installed coloredlogs-15.0.1 flatbuffers-24.3.25 humanfriendly-10.0 onnx-1.17.0 onnxruntime-1.19.2 protobuf-5.28.3 pycocotools-2.0.8 pyreadline3-3.5.4\n"
     ]
    }
   ],
   "source": [
    "!pip install opencv-python pycocotools matplotlib onnxruntime onnx"
   ]
  },
  {
   "cell_type": "code",
   "execution_count": 18,
   "metadata": {},
   "outputs": [
    {
     "ename": "AttributeError",
     "evalue": "module 'torch' has no attribute 'to_device'",
     "output_type": "error",
     "traceback": [
      "\u001b[1;31m---------------------------------------------------------------------------\u001b[0m",
      "\u001b[1;31mAttributeError\u001b[0m                            Traceback (most recent call last)",
      "Cell \u001b[1;32mIn[18], line 4\u001b[0m\n\u001b[0;32m      1\u001b[0m torch\u001b[38;5;241m.\u001b[39mdevice(\u001b[38;5;124m'\u001b[39m\u001b[38;5;124mcuda\u001b[39m\u001b[38;5;124m'\u001b[39m)\n\u001b[1;32m----> 4\u001b[0m \u001b[43mtorch\u001b[49m\u001b[38;5;241;43m.\u001b[39;49m\u001b[43mto_device\u001b[49m\n",
      "File \u001b[1;32mc:\\Users\\cwl8\\anaconda3\\envs\\chris-env\\Lib\\site-packages\\torch\\__init__.py:2563\u001b[0m, in \u001b[0;36m__getattr__\u001b[1;34m(name)\u001b[0m\n\u001b[0;32m   2560\u001b[0m \u001b[38;5;28;01mif\u001b[39;00m name \u001b[38;5;129;01min\u001b[39;00m _lazy_modules:\n\u001b[0;32m   2561\u001b[0m     \u001b[38;5;28;01mreturn\u001b[39;00m importlib\u001b[38;5;241m.\u001b[39mimport_module(\u001b[38;5;124mf\u001b[39m\u001b[38;5;124m\"\u001b[39m\u001b[38;5;124m.\u001b[39m\u001b[38;5;132;01m{\u001b[39;00mname\u001b[38;5;132;01m}\u001b[39;00m\u001b[38;5;124m\"\u001b[39m, \u001b[38;5;18m__name__\u001b[39m)\n\u001b[1;32m-> 2563\u001b[0m \u001b[38;5;28;01mraise\u001b[39;00m \u001b[38;5;167;01mAttributeError\u001b[39;00m(\u001b[38;5;124mf\u001b[39m\u001b[38;5;124m\"\u001b[39m\u001b[38;5;124mmodule \u001b[39m\u001b[38;5;124m'\u001b[39m\u001b[38;5;132;01m{\u001b[39;00m\u001b[38;5;18m__name__\u001b[39m\u001b[38;5;132;01m}\u001b[39;00m\u001b[38;5;124m'\u001b[39m\u001b[38;5;124m has no attribute \u001b[39m\u001b[38;5;124m'\u001b[39m\u001b[38;5;132;01m{\u001b[39;00mname\u001b[38;5;132;01m}\u001b[39;00m\u001b[38;5;124m'\u001b[39m\u001b[38;5;124m\"\u001b[39m)\n",
      "\u001b[1;31mAttributeError\u001b[0m: module 'torch' has no attribute 'to_device'"
     ]
    }
   ],
   "source": [
    "torch.device('cuda')\n",
    "\n"
   ]
  },
  {
   "cell_type": "code",
   "execution_count": null,
   "metadata": {},
   "outputs": [],
   "source": [
    "!conda install torchvision"
   ]
  },
  {
   "cell_type": "code",
   "execution_count": null,
   "metadata": {},
   "outputs": [],
   "source": [
    "from segment_anything import SamPredictor, sam_model_registry\n",
    "sam = sam_model_registry[\"vit_b\"](checkpoint=r\"C:\\Users\\cwl8\\Desktop\\notes\\SAM\\data\\checkpoints\\segment-anything\\checkpoints\\sam_vit_b_01ec64.pth\")\n",
    "predictor = SamPredictor(sam)\n",
    "# predictor.set_image(<your_image>)\n",
    "# masks, _, _ = predictor.predict (<input_prompts>)"
   ]
  },
  {
   "cell_type": "code",
   "execution_count": null,
   "metadata": {},
   "outputs": [],
   "source": []
  }
 ],
 "metadata": {
  "kernelspec": {
   "display_name": "chris-env",
   "language": "python",
   "name": "python3"
  },
  "language_info": {
   "codemirror_mode": {
    "name": "ipython",
    "version": 3
   },
   "file_extension": ".py",
   "mimetype": "text/x-python",
   "name": "python",
   "nbconvert_exporter": "python",
   "pygments_lexer": "ipython3",
   "version": "3.12.7"
  }
 },
 "nbformat": 4,
 "nbformat_minor": 2
}
