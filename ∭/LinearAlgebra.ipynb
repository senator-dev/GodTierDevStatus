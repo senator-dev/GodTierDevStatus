{
 "cells": [
  {
   "cell_type": "markdown",
   "metadata": {},
   "source": [
    "# **Linear Algebra Done Right, Sheldon Axler**"
   ]
  },
  {
   "cell_type": "markdown",
   "metadata": {},
   "source": [
    "## **1 - Vector Spaces**"
   ]
  },
  {
   "cell_type": "markdown",
   "metadata": {},
   "source": [
    "#### 1.1 - Definition: Complex Numbers, $\\mathbb{C}$\n",
    "\n",
    " - A *complex number* is an ordered pair $(a,b)$, where $a,b\\in\\mathbb{R}$, but we will write this as $a+bi$.\n",
    " - The set of all complex numbers is denoted by $\\mathbb{C}$:\n",
    "\n",
    " $$\\mathbb{C}=\\{a+bi:a,b\\in\\mathbb{R}\\}$$\n",
    "\n",
    " - *Addition* and *multiplication* on $\\mathbb{C}$ are defined by\n",
    "\n",
    " $$(a+bi)+(c+di)=(a+c)+(b+d)i$$\n",
    "\n",
    " $$(a+bi)(c+di)=(ac-bd)+(ad+bc)i$$\n",
    "\n",
    " where $a,b,c,d\\in\\mathbb{R}$.\n",
    "\n"
   ]
  },
  {
   "cell_type": "code",
   "execution_count": null,
   "metadata": {},
   "outputs": [],
   "source": []
  }
 ],
 "metadata": {
  "kernelspec": {
   "display_name": ".venv",
   "language": "python",
   "name": "python3"
  },
  "language_info": {
   "codemirror_mode": {
    "name": "ipython",
    "version": 3
   },
   "file_extension": ".py",
   "mimetype": "text/x-python",
   "name": "python",
   "nbconvert_exporter": "python",
   "pygments_lexer": "ipython3",
   "version": "3.12.5"
  }
 },
 "nbformat": 4,
 "nbformat_minor": 2
}
