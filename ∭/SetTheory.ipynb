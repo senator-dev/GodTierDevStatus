{
 "cells": [
  {
   "cell_type": "markdown",
   "metadata": {},
   "source": [
    "# **Axiomatic Set Theory - Patrick Suppes**"
   ]
  },
  {
   "cell_type": "markdown",
   "metadata": {},
   "source": [
    "## **Chapter 1 - Introduction**"
   ]
  },
  {
   "cell_type": "markdown",
   "metadata": {},
   "source": [
    "### **1.1 - Set Theory and the Foundation of Mathematics.**"
   ]
  },
  {
   "cell_type": "markdown",
   "metadata": {},
   "source": [
    "With a few rare exceptions the entities which are studied and analyzed in mathematics may be regarded as certain particular sets or classes of objects. This means that the various branches of mathematics may be formally defined within set theory. As a consequence, many fundamental questions about the nature of mathematics may be reduced to questions about set theory."
   ]
  },
  {
   "cell_type": "markdown",
   "metadata": {},
   "source": [
    "The working mathematician, as well as the man in the street, is seldom concerned with the unusual question: What is a number? But the attempt to answer this question precisely has motivated much of the work by mathematicians and philosophers in the foundations of mathematics during the past hundred years."
   ]
  },
  {
   "cell_type": "markdown",
   "metadata": {},
   "source": [
    "Adequate axioms for set theory provide one clear, constructive answer to the question: What assumptions, beyond those of elementary logic, are required as a basis for modern mathematics. The most pressing consideration, however, is the discovery, made around 1900, of various paradoxes in naive, intuitive set theory, which admits the existence of sets of objects having any definite property whatsoever. Some particular restricted axiomatic approach is needed to avoid these paradoxes."
   ]
  },
  {
   "cell_type": "markdown",
   "metadata": {},
   "source": [
    "### **1.2 - Logic and Notation**"
   ]
  },
  {
   "cell_type": "markdown",
   "metadata": {},
   "source": [
    "$$\n",
    "\\begin{align*}\n",
    "\\neg P&&\\text{negation}&&\\text{It is not the case that }P\\\\\n",
    "P\\land Q&&\\text{disjunction}&&P\\text{ and }Q\\\\\n",
    "P\\lor Q&&\\text{conjuction}&&P\\text{ or }Q\\\\\n",
    "P\\rightarrow Q&&\\text{conditional}&&\\text{If }P\\text{ then }Q\\\\\n",
    "P\\leftrightarrow Q&&\\text{biconditional}&&P\\text{ if and only if }Q\\\\\n",
    "(\\forall v)P&&\\text{universal quantification}&&\\text{For every }v,\\ P\\\\\n",
    "(\\exists v)P&&\\text{existential quantification}&&\\text{For some }v,\\ P\\\\\n",
    "(\\mathbf{E}!v)P&&\\text{unique existence}&&\\text{There is exactly one }v\\text{ such that }P\n",
    "\\end{align*}$$\n",
    "\n",
    "One convention is that $\\leftrightarrow$ and $\\rightarrow$ dominate $\\land$ and $\\lor$.\n",
    "\n",
    "A principle used in this book is that $x=y$ is taken as \"$x$ is the same as $y$\".\n",
    "\n",
    "The *scope* of a quantifier is the quantifier itself with the smallest formula immediately following the quantifier. Whatever is the smallest formula is always indicated by parantheses. \n",
    "\n",
    "An occurence of a variable in a formula is *bound* iff this occurence is within the scope of a quantifier using this variable. Otherwise, it is free."
   ]
  },
  {
   "cell_type": "markdown",
   "metadata": {},
   "source": [
    "### **1.3 - Axiom Schema of Abstraction and Russell's Paradox**"
   ]
  },
  {
   "cell_type": "markdown",
   "metadata": {},
   "source": [
    "In his initial development of set theor, Canotr did not work explicitly from axioms. However, analysis of his proofs indicates that almost all of the theorems proved by him can be derived from three axioms (1) The axiom of extensionality for sets, which asserts that two sets are identical if they have the same members, (2) the axiom of abstraction, which states that given any property there exists a set whose members are just those entities having that property; (3) the axiom of choice, which will not be formulated at this point and is not pertinent to our discussion of the paradoxes.\n",
    "\n",
    "The issue is the axiom of abstraction. In 1901 Bertrand Russel discovered that a contradiction could be derived from this axiom by considering the set of all things which have the property of not being members of themselves.\n",
    "\n",
    "The axiom of abstraction given mathematical notation:\n",
    "\n",
    "$$\\exists y\\forall x\\left[x\\in y\\leftrightarrow\\phi(x)\\right]\\tag{1}$$\n",
    "\n",
    "where $\\phi(x)$ is a formula in which the variable $y$ is not free. To obtain Russell's paradox, we want $\\phi(x)$ to asset thta $x$ is not a member of itself. The appropriate formula is clearly:\n",
    "\n",
    "$$\\neg(x\\in x)$$\n",
    "\n",
    "We then have as an instance of the axiom of abstraction\n",
    "\n",
    "$$\\exists y\\forall x\\left[x\\in y\\leftrightarrow\\neg(x\\in x)\\right]\\tag{2}$$\n",
    "\n",
    "\n",
    "\n",
    "Taking $x=y$ in (2), we infer;\n",
    "\n",
    "$$y\\in y\\leftrightarrow\\neg(y\\in y)\\tag{3}$$\n",
    "\n",
    "which is logically equivalent to the contradiction:\n",
    "\n",
    "$$y\\in y\\land\\neg(y\\in y)\\tag{4}$$\n",
    "\n",
    "This simple derivation has far-reaching consequences for the axiomatic foundations of set theory. It plainly shows that in admitting (1) as an axiom we have granted too much. If we adhere to ordinary logic we cannot in a self-consistent manner claim that for every property there is a corresponding *set* of things having that property."
   ]
  },
  {
   "cell_type": "markdown",
   "metadata": {},
   "source": []
  }
 ],
 "metadata": {
  "kernelspec": {
   "display_name": "chris-env",
   "language": "python",
   "name": "python3"
  },
  "language_info": {
   "codemirror_mode": {
    "name": "ipython",
    "version": 3
   },
   "file_extension": ".py",
   "mimetype": "text/x-python",
   "name": "python",
   "nbconvert_exporter": "python",
   "pygments_lexer": "ipython3",
   "version": "3.12.7"
  }
 },
 "nbformat": 4,
 "nbformat_minor": 2
}
